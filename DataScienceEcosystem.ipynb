{
 "cells": [
  {
   "cell_type": "markdown",
   "id": "7e73175a-91d8-4c55-87ca-0c7d8c06c785",
   "metadata": {},
   "source": [
    "# Data Science Tools and Ecosystem"
   ]
  },
  {
   "cell_type": "markdown",
   "id": "a0bb5d07-60e0-461d-bbe1-bdc980aa8b79",
   "metadata": {},
   "source": [
    "#In this notebook, Data Science Tools and Ecosystem are summarized"
   ]
  },
  {
   "cell_type": "markdown",
   "id": "a5d31950-914e-4609-8fbc-b004d1190833",
   "metadata": {},
   "source": [
    "**Objectives:**\n",
    "\n",
    "1. Learn about popular languages for Data Science\n",
    "2. Understand the basics of data manipulation and analysis\n",
    "3. Explore different visualization techniques for data\n",
    "4. Practice using machine learning algorithms for predictive modeling\n",
    "5. Apply data science techniques to real-world problems"
   ]
  },
  {
   "cell_type": "markdown",
   "id": "67c0309a-6f5f-4c54-b51b-1a1b57dfb5da",
   "metadata": {},
   "source": [
    "#Some of the popular languages that Data Scientists use are:\n",
    "1. Python\n",
    "2. R\n",
    "3. SQL"
   ]
  },
  {
   "cell_type": "markdown",
   "id": "03ebfd2e-8c43-4eb2-bd94-9f228c31ed55",
   "metadata": {},
   "source": [
    "#Some of the commonly used libraries used by Data Scientists include:\n",
    "1. Pandas\n",
    "2. Numpy\n",
    "3. Scikit-learn\n"
   ]
  },
  {
   "cell_type": "markdown",
   "id": "c2d9bf8c-6d94-4326-a921-6df860eef27f",
   "metadata": {},
   "source": [
    "| Data Science Tools |\n",
    "| --- |\n",
    "| JupyterLab |\n",
    "| RStudio |\n",
    "| Spyder |\n",
    "\n"
   ]
  },
  {
   "cell_type": "markdown",
   "id": "ba8e3f8f-5db2-4776-8642-c14ecc5370ed",
   "metadata": {},
   "source": [
    "### Below are a few examples of evaluating arithmetic expressions in Python"
   ]
  },
  {
   "cell_type": "code",
   "execution_count": 11,
   "id": "223ed819-8baf-4934-be75-a6da3e41ba86",
   "metadata": {
    "tags": []
   },
   "outputs": [
    {
     "name": "stdout",
     "output_type": "stream",
     "text": [
      "The result of the expression (3*4)+5 is 17\n"
     ]
    }
   ],
   "source": [
    "# This is a simple arithmetic expression to multiply then add integers\n",
    "result = (3 * 4) + 5\n",
    "print(f\"The result of the expression (3*4)+5 is {result}\")"
   ]
  },
  {
   "cell_type": "code",
   "execution_count": 1,
   "id": "ca4cde34-e991-4291-9f79-1479f45403cb",
   "metadata": {},
   "outputs": [
    {
     "name": "stdout",
     "output_type": "stream",
     "text": [
      "200 minutes is equal to 3.3333333333333335 hours\n"
     ]
    }
   ],
   "source": [
    "# This will convert  200 minutes to hours by dividing by 60\n",
    "minutes = 200\n",
    "hours = minutes / 60\n",
    "print(f\"{minutes} minutes is equal to {hours} hours\")"
   ]
  },
  {
   "cell_type": "markdown",
   "id": "c6139ec0-9c5a-402a-bbbc-7d06083a134d",
   "metadata": {},
   "source": [
    "## Author\n",
    "Michael D."
   ]
  }
 ],
 "metadata": {
  "kernelspec": {
   "display_name": "Python 3 (ipykernel)",
   "language": "python",
   "name": "python3"
  },
  "language_info": {
   "codemirror_mode": {
    "name": "ipython",
    "version": 3
   },
   "file_extension": ".py",
   "mimetype": "text/x-python",
   "name": "python",
   "nbconvert_exporter": "python",
   "pygments_lexer": "ipython3",
   "version": "3.11.4"
  }
 },
 "nbformat": 4,
 "nbformat_minor": 5
}
